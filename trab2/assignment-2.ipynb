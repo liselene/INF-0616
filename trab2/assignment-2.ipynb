{
 "cells": [
  {
   "cell_type": "markdown",
   "metadata": {},
   "source": [
    "# INF-616 - Tarefa 2\n",
    "\n",
    "Professor: Jacques Wainer -- wainer@ic.unicamp.br  \n",
    "Monitor: Lucas David -- ra188972@students.ic.unicamp.br\n",
    "\n",
    "Instituto de Computação - Unicamp  \n",
    "2018"
   ]
  },
  {
   "cell_type": "markdown",
   "metadata": {},
   "source": [
    "## Classificação multi-classe"
   ]
  },
  {
   "cell_type": "code",
   "execution_count": null,
   "metadata": {},
   "outputs": [],
   "source": [
    "from __future__ import print_function\n",
    "\n",
    "import numpy as np\n",
    "from sklearn import metrics, datasets\n",
    "from sklearn.model_selection import train_test_split\n",
    "import matplotlib.pyplot as plt\n",
    "%matplotlib inline\n",
    "\n",
    "np.random.seed(42)"
   ]
  },
  {
   "cell_type": "code",
   "execution_count": null,
   "metadata": {},
   "outputs": [],
   "source": [
    "x, y = datasets.load_digits(return_X_y=True)\n",
    "x_train, x_test, y_train, y_test = train_test_split(x, y,\n",
    "                                                    test_size=.5)\n",
    "x_train, x_valid, y_train, y_valid = train_test_split(x_train, y_train,\n",
    "                                                      test_size=1 / 2)\n",
    "print('samples in train: %i' % x_train.shape[0],\n",
    "      'samples in test: %i' % x_test.shape[0],\n",
    "      'features: %i' % x_train.shape[1],\n",
    "      'classes: %i' % (np.max(y_train) + 1),\n",
    "      sep='\\n', end='\\n\\n')\n",
    "print('Some of the samples in digits:')\n",
    "_ = plt.figure(figsize=(16, 8))\n",
    "for ix in range(8  * 32):\n",
    "    plt.subplot(8, 32, ix + 1)\n",
    "    plt.imshow(x_train[ix].reshape(8, 8), cmap='Greys')\n",
    "    plt.axis('off')"
   ]
  },
  {
   "cell_type": "markdown",
   "metadata": {},
   "source": [
    "**Teste múltiplos *hiper-parâmetros* e otimize um modelo a fim de corretamente classificar as amostras no primeiro conjunto de validação de dígitos**"
   ]
  },
  {
   "cell_type": "code",
   "execution_count": null,
   "metadata": {},
   "outputs": [],
   "source": [
    "# import ...\n",
    "\n",
    "trials = [{'C': 1e-3, 'kernel': 'rbf'},\n",
    "          {'C': 1e-2, 'kernel': 'rbf'},\n",
    "          {'C': 1e-1, 'kernel': 'rbf'},\n",
    "          {'C': 1e-3, 'kernel': 'poly'},\n",
    "          {'C': 1e-2, 'kernel': 'poly'},\n",
    "          {'C': 1e-1, 'kernel': 'poly'},\n",
    "          {'C': 1e-3, 'kernel': 'sigmoid'},\n",
    "          {'C': 1e-2, 'kernel': 'sigmoid'},\n",
    "          {'C': 1e-1, 'kernel': 'sigmoid'}]\n",
    "\n",
    "# metric = ...\n",
    "\n",
    "def find_best_params(trials, metric, train, valid):\n",
    "    scores = []\n",
    "    for params in trials:\n",
    "        # model = ...\n",
    "        # model.fit(...)\n",
    "        # score = metric(actual, predicted)\n",
    "        scores.append(score)\n",
    "    return scores\n",
    "\n",
    "scores = find_best_params(trials, metric, (x_train, y_train), (x_valid, y_valid))\n",
    "best_ix = np.argmax(scores)\n",
    "best_params = trials[best_ix]\n",
    "\n",
    "print('best parameters are', best_params, 'with score', scores[best_ix])"
   ]
  },
  {
   "cell_type": "markdown",
   "metadata": {},
   "source": [
    "**Este modelo manteve a pontuação sobre o conjunto de teste?**"
   ]
  },
  {
   "cell_type": "code",
   "execution_count": null,
   "metadata": {},
   "outputs": [],
   "source": [
    "# model = ...\n",
    "# model.fit(...)\n",
    "# score_test = ...\n",
    "# print('score:', score_test)"
   ]
  },
  {
   "cell_type": "markdown",
   "metadata": {},
   "source": [
    "**Sub-dividir conjuntos já pequenos é quase sempre inviável. Treine sobre `(x_small_train, y_small_train)` e reporte sua métrica sobre o conjunto de teste:**"
   ]
  },
  {
   "cell_type": "code",
   "execution_count": null,
   "metadata": {},
   "outputs": [],
   "source": [
    "x_small_all, _, y_small_all, _ = train_test_split(x_train, y_train,\n",
    "                                                  test_size=.5,\n",
    "                                                  random_state=82)\n",
    "x_small_train, x_small_valid, y_small_train, y_small_valid = train_test_split(\n",
    "    x_small_all, y_small_all, test_size=.25)\n",
    "print('samples in reduced train:', x_small_train.shape[0])"
   ]
  },
  {
   "cell_type": "code",
   "execution_count": null,
   "metadata": {},
   "outputs": [],
   "source": [
    "scores = find_best_params(trials, metric,\n",
    "                          (x_small_train, y_small_train),\n",
    "                          (x_small_valid, y_small_valid))\n",
    "best_ix = np.argmax(scores)\n",
    "best_params = trials[best_ix]\n",
    "\n",
    "# model = ...\n",
    "# model.fit(...)\n",
    "\n",
    "# best_params = ...\n",
    "# best_score = ...\n",
    "# train_acc = ...\n",
    "# valid_acc = ...\n",
    "# test_acc = ...\n",
    "\n",
    "print('best parameters are', best_params, 'with score', best_score)\n",
    "print('train accuracy:', train_acc)\n",
    "print('valid accuracy:', valid_acc)\n",
    "print('test accuracy:', test_acc)"
   ]
  },
  {
   "cell_type": "markdown",
   "metadata": {},
   "source": [
    "**Utilize *cross-validation* e verifique se você consegue melhorar a acurácia em teste no conjunto de dados pequeno.**"
   ]
  },
  {
   "cell_type": "code",
   "execution_count": null,
   "metadata": {},
   "outputs": [],
   "source": [
    "# import ...\n",
    "# param_grid = {...}\n",
    "#\n",
    "# model = ...\n",
    "# model.fit(...)\n",
    "\n",
    "# best_params = ...\n",
    "# best_score = ...\n",
    "# train_acc = ...\n",
    "# valid_acc = ...\n",
    "# test_acc = ...\n",
    "\n",
    "print('best parameters are', best_params, 'with score', best_score)\n",
    "print('train accuracy:', train_acc)\n",
    "print('valid accuracy:', valid_acc)\n",
    "print('test accuracy:', test_acc)"
   ]
  }
 ],
 "metadata": {
  "kernelspec": {
   "display_name": "Python 3",
   "language": "python",
   "name": "python3"
  },
  "language_info": {
   "codemirror_mode": {
    "name": "ipython",
    "version": 3
   },
   "file_extension": ".py",
   "mimetype": "text/x-python",
   "name": "python",
   "nbconvert_exporter": "python",
   "pygments_lexer": "ipython3",
   "version": "3.6.5"
  }
 },
 "nbformat": 4,
 "nbformat_minor": 2
}
