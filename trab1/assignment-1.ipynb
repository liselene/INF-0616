{
 "cells": [
  {
   "cell_type": "markdown",
   "metadata": {},
   "source": [
    "# INF-616 - Tarefa 1\n",
    "\n",
    "Professor: Jacques Wainer -- wainer@ic.unicamp.br\n",
    "Monitor: Lucas David -- ra188972@students.ic.unicamp.br\n",
    "\n",
    "Instituto de Computação - Unicamp  \n",
    "2018"
   ]
  },
  {
   "cell_type": "code",
   "execution_count": null,
   "metadata": {},
   "outputs": [],
   "source": [
    "Alunos: Liselene Borges e Marcos Scarpim"
   ]
  },
  {
   "cell_type": "markdown",
   "metadata": {},
   "source": [
    "## Classificação binária (decisão)"
   ]
  },
  {
   "cell_type": "code",
   "execution_count": 2,
   "metadata": {},
   "outputs": [],
   "source": [
    "from __future__ import print_function\n",
    "\n",
    "import numpy as np\n",
    "import matplotlib\n",
    "\n",
    "from sklearn.svm import SVC\n",
    "from sklearn.linear_model import LogisticRegression\n",
    "from sklearn.datasets import load_breast_cancer\n",
    "from sklearn.model_selection import train_test_split\n",
    "from sklearn import metrics\n",
    "from matplotlib import pyplot as plt\n",
    "from sklearn.metrics import confusion_matrix\n",
    "import seaborn as sns\n",
    "\n",
    "%matplotlib inline"
   ]
  },
  {
   "cell_type": "code",
   "execution_count": 3,
   "metadata": {},
   "outputs": [
    {
     "name": "stdout",
     "output_type": "stream",
     "text": [
      "Conjunto \"Breast Cancer Wisconsin (Diagnostic)\"\"\n",
      "================================================\n",
      "\n",
      "Contém descrições dos núcleos das células aspiradas de tecido \n",
      "mamário humano, classificadas em malignas e benignas.\n",
      "\n",
      "Amostras no conjunto original:  569\n",
      "Amostras no conjunto de treino: 426\n",
      "Amostras no conjunto de teste:  143\n"
     ]
    }
   ],
   "source": [
    "seed = 42\n",
    "test_size = 0.25\n",
    "\n",
    "np.random.seed(seed)\n",
    "dataset = load_breast_cancer()\n",
    "\n",
    "\n",
    "def train_test_split(x, y, test_fraction=1 / 3):\n",
    "    \"\"\"Separa um conjunto de `len(x)` amostras em dois de\n",
    "    tamanhos `len(x) * (1 - test_fraction)` e `len(x) * test_fraction`.\n",
    "    \"\"\"\n",
    "    indices = np.arange(len(x))\n",
    "    np.random.shuffle(indices)\n",
    "    \n",
    "    train_size = int(len(x) * (1 - test_fraction))\n",
    "    train_samples = indices[:train_size]\n",
    "    test_samples = indices[train_size:]\n",
    "    \n",
    "    return (x[train_samples], y[train_samples]), (x[test_samples], y[test_samples])\n",
    "\n",
    "\n",
    "(x_train, y_train), (x_test, y_test) = train_test_split(dataset.data,\n",
    "                                                        dataset.target,\n",
    "                                                        test_size)\n",
    "\n",
    "print('Conjunto \"Breast Cancer Wisconsin (Diagnostic)\"\"',\n",
    "      '================================================\\n',\n",
    "      'Contém descrições dos núcleos das células aspiradas de tecido ',\n",
    "      'mamário humano, classificadas em malignas e benignas.\\n',\n",
    "      sep='\\n')\n",
    "\n",
    "print('Amostras no conjunto original: ', len(dataset.data))\n",
    "print('Amostras no conjunto de treino:', len(x_train))\n",
    "print('Amostras no conjunto de teste: ', len(x_test))"
   ]
  },
  {
   "cell_type": "markdown",
   "metadata": {},
   "source": [
    "### Inicialize e treine um classificador `SVC` e um `LogisticRegression`\n",
    "\n",
    "Utilize as classes `sklearn.svm.SVC` e `sklearn.linear.LogisticRegression`"
   ]
  },
  {
   "cell_type": "code",
   "execution_count": 4,
   "metadata": {},
   "outputs": [],
   "source": [
    "SVC_C            = 100\n",
    "SVC_GAMMA        = 0.001\n",
    "SVC_RANDOM_STATE = 13\n",
    "LR_C             = 1000\n",
    "LR_RANDOM_STATE  = 24\n",
    "\n",
    "# Inicialize e treine os estimadores aqui:\n",
    "svc = SVC(gamma=SVC_GAMMA, C=SVC_C, random_state=SVC_RANDOM_STATE)\n",
    "svc.fit(x_train, y_train)\n",
    "lr = LogisticRegression(random_state=LR_RANDOM_STATE, C=LR_C)\n",
    "lr.fit(x_train, y_train)\n",
    "\n",
    "estimators = [svc, lr]"
   ]
  },
  {
   "cell_type": "markdown",
   "metadata": {},
   "source": [
    "### Qual dos dois estimadores apresenta maior acurácia sobre o conjunto WDBC teste?"
   ]
  },
  {
   "cell_type": "code",
   "execution_count": 5,
   "metadata": {},
   "outputs": [
    {
     "name": "stdout",
     "output_type": "stream",
     "text": [
      "~> Teste do estimator SVC\n",
      "   exemplo de rótulos de treino verdadeiros: [1 0 0 1 1 0 0 0 1 1] ...\n",
      "   exemplo de rótulos de treino preditos: [1 0 0 1 1 0 0 0 1 1] ...\n",
      "   Acurácia:  0.8811188811188811\n",
      "~> Teste do estimator LogisticRegression\n",
      "   exemplo de rótulos de treino verdadeiros: [1 0 0 1 1 0 0 0 1 1] ...\n",
      "   exemplo de rótulos de treino preditos: [1 0 0 1 1 0 0 0 1 1] ...\n",
      "   Acurácia:  0.9300699300699301\n"
     ]
    }
   ],
   "source": [
    "for e in estimators:\n",
    "    print('~> Teste do estimator', type(e).__name__)\n",
    "    p_train = e.predict(x_train)\n",
    "    \n",
    "    print('   exemplo de rótulos de treino verdadeiros:', y_train[:10], '...')\n",
    "    print('   exemplo de rótulos de treino preditos:', p_train[:10], '...')\n",
    "\n",
    "    # Resposta:\n",
    "    ypred=e.predict(x_test)\n",
    "    acc = sum(ypred == y_test)/len(y_test)\n",
    "    print('   Acurácia: ', acc)"
   ]
  },
  {
   "cell_type": "markdown",
   "metadata": {},
   "source": [
    "### O *Support Vector Machine* Classifier consegue distinguir ambas as classes de forma satisfatória?"
   ]
  },
  {
   "cell_type": "markdown",
   "metadata": {},
   "source": [
    "Utilize a matriz de confusão para descobrir se o SVC consegue efetivamente distinguir amostras benignas de malignas."
   ]
  },
  {
   "cell_type": "code",
   "execution_count": 6,
   "metadata": {},
   "outputs": [
    {
     "name": "stdout",
     "output_type": "stream",
     "text": [
      "[[49 12]\n",
      " [ 5 77]]\n"
     ]
    }
   ],
   "source": [
    "p_test = svc.predict(x_test)\n",
    "\n",
    "# Resposta:\n",
    "cm = confusion_matrix(y_test, p_test)\n",
    "print(cm)\n",
    "# Sim. Uma vez que de 54 amostras malignas, 49 foram classificadas corretamente.\n",
    "# E das 89 amostras benignas, 77 foram classificadas corretamente."
   ]
  },
  {
   "cell_type": "markdown",
   "metadata": {},
   "source": [
    "### Calcule manualmente (sem o auxílio do `scikit.metrics`) as métricas acurácia balanceada, precision, *recall* e *F1*"
   ]
  },
  {
   "cell_type": "code",
   "execution_count": 7,
   "metadata": {},
   "outputs": [
    {
     "name": "stdout",
     "output_type": "stream",
     "text": [
      "~> Estimador SVC\n",
      "   acuracia balanceada: 0.8811188811188811\n",
      "   precision: 0.9074074074074074\n",
      "      recall: 0.8032786885245902\n",
      "          f1: 0.8521739130434782\n",
      "~> Estimador LogisticRegression\n",
      "   acuracia balanceada: 0.9300699300699301\n",
      "   precision: 0.9322033898305084\n",
      "      recall: 0.9016393442622951\n",
      "          f1: 0.9166666666666666\n"
     ]
    }
   ],
   "source": [
    "for e in estimators:\n",
    "    print('~> Estimador', type(e).__name__)\n",
    "    p_test = e.predict(x_test)\n",
    "    cm = confusion_matrix(y_test, p_test)\n",
    "\n",
    "    # Resposta:\n",
    "    a = (cm[0,0] + cm[1,1])/len(y_test) \n",
    "    p = cm[0,0]/(cm[0,0] + cm[1,0])\n",
    "    r = cm[0,0]/(cm[0,0] + cm[0,1])\n",
    "    f1 = (2*p*r)/(p+r)\n",
    "    \n",
    "    print('   acuracia balanceada:', a)\n",
    "    print('   precision:', p)\n",
    "    print('      recall:', r)\n",
    "    print('          f1:', f1)"
   ]
  },
  {
   "cell_type": "markdown",
   "metadata": {},
   "source": [
    "### Recalcule as medidas anteriores e a curva ROC AUC com o auxílio do scikit-learn"
   ]
  },
  {
   "cell_type": "code",
   "execution_count": 29,
   "metadata": {},
   "outputs": [
    {
     "name": "stdout",
     "output_type": "stream",
     "text": [
      "~> Estimador SVC\n",
      "Accuracy: 0.8811188811188811\n",
      "Precision: 0.8651685393258427\n",
      "Recall: 0.9390243902439024\n",
      "F1: 0.9005847953216373\n"
     ]
    },
    {
     "data": {
      "text/plain": [
       "Text(0,0.5,'Precision')"
      ]
     },
     "execution_count": 29,
     "metadata": {},
     "output_type": "execute_result"
    },
    {
     "data": {
      "image/png": "[encoded data removed]",
      "text/plain": [
       "<matplotlib.figure.Figure at 0x7f5c9cb7c710>"
      ]
     },
     "metadata": {},
     "output_type": "display_data"
    }
   ],
   "source": [
    "print('~> Estimador', type(svc).__name__)\n",
    "p_test = svc.predict(x_test)\n",
    "s_test = svc.decision_function(x_test)\n",
    "\n",
    "# Resposta:\n",
    "from sklearn.metrics import confusion_matrix\n",
    "confusion_matrix(y_test, p_test)\n",
    "\n",
    "from sklearn.metrics import accuracy_score\n",
    "a=accuracy_score(y_test, p_test)\n",
    "print(\"Accuracy:\",a)\n",
    "\n",
    "from sklearn.metrics import precision_score\n",
    "p=precision_score(y_test,p_test)\n",
    "print(\"Precision:\",p)\n",
    "\n",
    "from sklearn.metrics import recall_score\n",
    "r=recall_score(y_test,p_test)\n",
    "print(\"Recall:\",r)\n",
    "\n",
    "from sklearn.metrics import f1_score\n",
    "f=f1_score(y_test,p_test)\n",
    "print(\"F1:\",f)\n",
    "\n",
    "from sklearn.metrics import precision_recall_curve\n",
    "import matplotlib.pyplot as plt\n",
    "precision, recall, _ = precision_recall_curve(y_test,s_test)\n",
    "plt.step(recall, precision, color='b', alpha=0.2,\n",
    "         where='post')\n",
    "plt.xlabel('Recall')\n",
    "plt.ylabel('Precision')"
   ]
  },
  {
   "cell_type": "code",
   "execution_count": 11,
   "metadata": {},
   "outputs": [
    {
     "data": {
      "image/png": "[encoded data removed]",
      "text/plain": [
       "<matplotlib.figure.Figure at 0x7f5c9ce23198>"
      ]
     },
     "metadata": {},
     "output_type": "display_data"
    }
   ],
   "source": [
    "def display_roc_curve(y, s):\n",
    "    \"\"\"Exibe a curva ROC AUC em um grafico.\n",
    "    Originalmente implementado em: http://scikit-learn.org/stable/auto_examples/model_selection/plot_roc.html\n",
    "    \"\"\"\n",
    "    fpr, tpr, _ = metrics.roc_curve(y, s)\n",
    "    roc_auc = metrics.auc(fpr, tpr)\n",
    "\n",
    "    plt.figure(figsize=(6, 6))\n",
    "    plt.plot(fpr, tpr, color='orange', lw=4, alpha=.6, label='ROC curve (area: %0.2f)' % roc_auc)\n",
    "    plt.plot([0, 1], [0, 1], color='black', lw=4, alpha=0.6, linestyle='--')\n",
    "    plt.xlim([0.0, 1.0])\n",
    "    plt.ylim([0.0, 1.05])\n",
    "    plt.xlabel('False Positive Rate')\n",
    "    plt.ylabel('True Positive Rate')\n",
    "    plt.legend(loc=\"lower right\")\n",
    "    [spine.set_visible(False) for spine in plt.gca().spines.values()]\n",
    "\n",
    "\n",
    "display_roc_curve(y_test, s_test)"
   ]
  },
  {
   "cell_type": "code",
   "execution_count": 12,
   "metadata": {},
   "outputs": [
    {
     "data": {
      "image/png": "[encoded data removed]",
      "text/plain": [
       "<matplotlib.figure.Figure at 0x7fc0680fc7b8>"
      ]
     },
     "metadata": {},
     "output_type": "display_data"
    }
   ],
   "source": [
    "def display_predictions(y, s):\n",
    "    \"\"\"Exibe a distribuicao das predicoes de ambas classes + e -.\n",
    "    \"\"\"\n",
    "    # Originally implemented at: https://towardsdatascience.com/histograms-and-density-plots-in-python-f6bda88f5ac0\n",
    "\n",
    "    plt.figure(figsize=(12, 6))\n",
    "\n",
    "    sns.distplot(s[~y.astype(bool)], hist=False, kde=True, kde_kws={'shade': True, 'linewidth': 3}, label='Benign')\n",
    "    sns.distplot(s[y.astype(bool)], hist=False, kde=True, kde_kws={'shade': True, 'linewidth': 3}, label='Malign')\n",
    "\n",
    "    plt.title('Prediction Distributions')\n",
    "    plt.xlabel('predicted value')\n",
    "    plt.ylabel('density')\n",
    "    plt.legend(prop={'size': 16}, loc='upper right')\n",
    "    [spine.set_visible(False) for spine in plt.gca().spines.values()]\n",
    "    \n",
    "\n",
    "display_predictions(y_test, s_test)"
   ]
  }
 ],
 "metadata": {
  "kernelspec": {
   "display_name": "Python 3",
   "language": "python",
   "name": "python3"
  },
  "language_info": {
   "codemirror_mode": {
    "name": "ipython",
    "version": 3
   },
   "file_extension": ".py",
   "mimetype": "text/x-python",
   "name": "python",
   "nbconvert_exporter": "python",
   "pygments_lexer": "ipython3",
   "version": "3.6.4"
  }
 },
 "nbformat": 4,
 "nbformat_minor": 1
}
